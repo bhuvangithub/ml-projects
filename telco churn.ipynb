{
 "cells": [
  {
   "cell_type": "markdown",
   "metadata": {},
   "source": [
    "# PROJECT BY:\n",
    "\n",
    "### BHUVAN S \n"
    
   ]
  },
  {
   "cell_type": "markdown",
   "metadata": {},
   "source": [
    "# OBJECTIVE :\n",
    "### To build a machine learning model to predict telecom churn\n",
    "\n",
    "\n",
    "\n",
    "# TELECOM CHURN:\n",
    "\n",
    "\n",
    "Telecom churn, also known as telecom attrition, telecom turnover, or telecom defection, is the loss of clients or customers.\n",
    "\n",
    "Telephone service companies, Internet service providers, pay TV companies, insurance firms, and alarm monitoring services, often use customer attrition analysis and customer attrition rates as one of their key business metrics because the cost of retaining an existing customer is far less than acquiring a new one. Companies from these sectors often have customer service branches which attempt to win back defecting clients, because recovered long-term customers can be worth much more to a company than newly recruited clients.\n",
    "\n",
    "Companies usually make a distinction between voluntary churn and involuntary churn. Voluntary churn occurs due to a decision by the customer to switch to another company or service provider, involuntary churn occurs due to circumstances such as a customer's relocation to a long-term care facility, death, or the relocation to a distant location. In most applications, involuntary reasons for churn are excluded from the analytical models. Analysts tend to concentrate on voluntary churn, because it typically occurs due to factors of the company-customer relationship which companies control, such as how billing interactions are handled or how after-sales help is provided.\n",
    "\n",
    "predictive analytics use churn prediction models that predict customer churn by assessing their propensity of risk to churn. Since these models generate a small prioritized list of potential defectors, they are effective at focusing customer retention marketing programs on the subset of the customer base who are most vulnerable to churn."
   ]
  },
  {
   "cell_type": "markdown",
   "metadata": {},
   "source": [
    "# importing various packages required for reading and processing data for the purpose of EDA"
   ]
  },
  {
   "cell_type": "code",
   "execution_count": 1,
   "metadata": {},
   "outputs": [],
   "source": [
    "import pandas as pd\n",
    "import numpy as np\n",
    "import matplotlib.pyplot as plt"
   ]
  },
  {
   "cell_type": "markdown",
   "metadata": {},
   "source": [
    "### Reading the file containing churn data"
   ]
  },
  {
   "cell_type": "code",
   "execution_count": 2,
   "metadata": {},
   "outputs": [],
   "source": [
    "df=pd.read_csv(\"Telco-Customer-Churn.csv\")"
   ]
  },
  {
   "cell_type": "markdown",
   "metadata": {},
   "source": [
    "### Dimensions of the dataset"
   ]
  },
  {
   "cell_type": "code",
   "execution_count": 133,
   "metadata": {},
   "outputs": [
    {
     "data": {
      "text/plain": [
       "(7043, 21)"
      ]
     },
     "execution_count": 133,
     "metadata": {},
     "output_type": "execute_result"
    }
   ],
   "source": [
    "df.shape"
   ]
  },
  {
   "cell_type": "markdown",
   "metadata": {},
   "source": [
    "### Checking number of data entries in each column"
   ]
  },
  {
   "cell_type": "code",
   "execution_count": 3,
   "metadata": {},
   "outputs": [
    {
     "data": {
      "text/plain": [
       "customerID          7043\n",
       "gender              7043\n",
       "SeniorCitizen       7043\n",
       "Partner             7043\n",
       "Dependents          7043\n",
       "tenure              7043\n",
       "PhoneService        7043\n",
       "MultipleLines       7043\n",
       "InternetService     7043\n",
       "OnlineSecurity      7043\n",
       "OnlineBackup        7043\n",
       "DeviceProtection    7043\n",
       "TechSupport         7043\n",
       "StreamingTV         7043\n",
       "StreamingMovies     7043\n",
       "Contract            7043\n",
       "PaperlessBilling    7043\n",
       "PaymentMethod       7043\n",
       "MonthlyCharges      7043\n",
       "TotalCharges        7043\n",
       "Churn               7043\n",
       "dtype: int64"
      ]
     },
     "execution_count": 3,
     "metadata": {},
     "output_type": "execute_result"
    }
   ],
   "source": [
    "df.count()"
   ]
  },
  {
   "cell_type": "markdown",
   "metadata": {},
   "source": [
    "### Getting information about datatype and number of entries in each column"
   ]
  },
  {
   "cell_type": "code",
   "execution_count": 4,
   "metadata": {},
   "outputs": [
    {
     "name": "stdout",
     "output_type": "stream",
     "text": [
      "<class 'pandas.core.frame.DataFrame'>\n",
      "RangeIndex: 7043 entries, 0 to 7042\n",
      "Data columns (total 21 columns):\n",
      "customerID          7043 non-null object\n",
      "gender              7043 non-null object\n",
      "SeniorCitizen       7043 non-null int64\n",
      "Partner             7043 non-null object\n",
      "Dependents          7043 non-null object\n",
      "tenure              7043 non-null int64\n",
      "PhoneService        7043 non-null object\n",
      "MultipleLines       7043 non-null object\n",
      "InternetService     7043 non-null object\n",
      "OnlineSecurity      7043 non-null object\n",
      "OnlineBackup        7043 non-null object\n",
      "DeviceProtection    7043 non-null object\n",
      "TechSupport         7043 non-null object\n",
      "StreamingTV         7043 non-null object\n",
      "StreamingMovies     7043 non-null object\n",
      "Contract            7043 non-null object\n",
      "PaperlessBilling    7043 non-null object\n",
      "PaymentMethod       7043 non-null object\n",
      "MonthlyCharges      7043 non-null float64\n",
      "TotalCharges        7043 non-null object\n",
      "Churn               7043 non-null object\n",
      "dtypes: float64(1), int64(2), object(18)\n",
      "memory usage: 1.1+ MB\n"
     ]
    }
   ],
   "source": [
    "df.info()"
   ]
  },
  {
   "cell_type": "markdown",
   "metadata": {},
   "source": [
    "### Printing out first 5 rows of data"
   ]
  },
  {
   "cell_type": "code",
   "execution_count": 5,
   "metadata": {},
   "outputs": [
    {
     "data": {
      "text/html": [
       "<div>\n",
       "<style scoped>\n",
       "    .dataframe tbody tr th:only-of-type {\n",
       "        vertical-align: middle;\n",
       "    }\n",
       "\n",
       "    .dataframe tbody tr th {\n",
       "        vertical-align: top;\n",
       "    }\n",
       "\n",
       "    .dataframe thead th {\n",
       "        text-align: right;\n",
       "    }\n",
       "</style>\n",
       "<table border=\"1\" class=\"dataframe\">\n",
       "  <thead>\n",
       "    <tr style=\"text-align: right;\">\n",
       "      <th></th>\n",
       "      <th>customerID</th>\n",
       "      <th>gender</th>\n",
       "      <th>SeniorCitizen</th>\n",
       "      <th>Partner</th>\n",
       "      <th>Dependents</th>\n",
       "      <th>tenure</th>\n",
       "      <th>PhoneService</th>\n",
       "      <th>MultipleLines</th>\n",
       "      <th>InternetService</th>\n",
       "      <th>OnlineSecurity</th>\n",
       "      <th>...</th>\n",
       "      <th>DeviceProtection</th>\n",
       "      <th>TechSupport</th>\n",
       "      <th>StreamingTV</th>\n",
       "      <th>StreamingMovies</th>\n",
       "      <th>Contract</th>\n",
       "      <th>PaperlessBilling</th>\n",
       "      <th>PaymentMethod</th>\n",
       "      <th>MonthlyCharges</th>\n",
       "      <th>TotalCharges</th>\n",
       "      <th>Churn</th>\n",
       "    </tr>\n",
       "  </thead>\n",
       "  <tbody>\n",
       "    <tr>\n",
       "      <td>0</td>\n",
       "      <td>7590-VHVEG</td>\n",
       "      <td>Female</td>\n",
       "      <td>0</td>\n",
       "      <td>Yes</td>\n",
       "      <td>No</td>\n",
       "      <td>1</td>\n",
       "      <td>No</td>\n",
       "      <td>No phone service</td>\n",
       "      <td>DSL</td>\n",
       "      <td>No</td>\n",
       "      <td>...</td>\n",
       "      <td>No</td>\n",
       "      <td>No</td>\n",
       "      <td>No</td>\n",
       "      <td>No</td>\n",
       "      <td>Month-to-month</td>\n",
       "      <td>Yes</td>\n",
       "      <td>Electronic check</td>\n",
       "      <td>29.85</td>\n",
       "      <td>29.85</td>\n",
       "      <td>No</td>\n",
       "    </tr>\n",
       "    <tr>\n",
       "      <td>1</td>\n",
       "      <td>5575-GNVDE</td>\n",
       "      <td>Male</td>\n",
       "      <td>0</td>\n",
       "      <td>No</td>\n",
       "      <td>No</td>\n",
       "      <td>34</td>\n",
       "      <td>Yes</td>\n",
       "      <td>No</td>\n",
       "      <td>DSL</td>\n",
       "      <td>Yes</td>\n",
       "      <td>...</td>\n",
       "      <td>Yes</td>\n",
       "      <td>No</td>\n",
       "      <td>No</td>\n",
       "      <td>No</td>\n",
       "      <td>One year</td>\n",
       "      <td>No</td>\n",
       "      <td>Mailed check</td>\n",
       "      <td>56.95</td>\n",
       "      <td>1889.5</td>\n",
       "      <td>No</td>\n",
       "    </tr>\n",
       "    <tr>\n",
       "      <td>2</td>\n",
       "      <td>3668-QPYBK</td>\n",
       "      <td>Male</td>\n",
       "      <td>0</td>\n",
       "      <td>No</td>\n",
       "      <td>No</td>\n",
       "      <td>2</td>\n",
       "      <td>Yes</td>\n",
       "      <td>No</td>\n",
       "      <td>DSL</td>\n",
       "      <td>Yes</td>\n",
       "      <td>...</td>\n",
       "      <td>No</td>\n",
       "      <td>No</td>\n",
       "      <td>No</td>\n",
       "      <td>No</td>\n",
       "      <td>Month-to-month</td>\n",
       "      <td>Yes</td>\n",
       "      <td>Mailed check</td>\n",
       "      <td>53.85</td>\n",
       "      <td>108.15</td>\n",
       "      <td>Yes</td>\n",
       "    </tr>\n",
       "    <tr>\n",
       "      <td>3</td>\n",
       "      <td>7795-CFOCW</td>\n",
       "      <td>Male</td>\n",
       "      <td>0</td>\n",
       "      <td>No</td>\n",
       "      <td>No</td>\n",
       "      <td>45</td>\n",
       "      <td>No</td>\n",
       "      <td>No phone service</td>\n",
       "      <td>DSL</td>\n",
       "      <td>Yes</td>\n",
       "      <td>...</td>\n",
       "      <td>Yes</td>\n",
       "      <td>Yes</td>\n",
       "      <td>No</td>\n",
       "      <td>No</td>\n",
       "      <td>One year</td>\n",
       "      <td>No</td>\n",
       "      <td>Bank transfer (automatic)</td>\n",
       "      <td>42.30</td>\n",
       "      <td>1840.75</td>\n",
       "      <td>No</td>\n",
       "    </tr>\n",
       "    <tr>\n",
       "      <td>4</td>\n",
       "      <td>9237-HQITU</td>\n",
       "      <td>Female</td>\n",
       "      <td>0</td>\n",
       "      <td>No</td>\n",
       "      <td>No</td>\n",
       "      <td>2</td>\n",
       "      <td>Yes</td>\n",
       "      <td>No</td>\n",
       "      <td>Fiber optic</td>\n",
       "      <td>No</td>\n",
       "      <td>...</td>\n",
       "      <td>No</td>\n",
       "      <td>No</td>\n",
       "      <td>No</td>\n",
       "      <td>No</td>\n",
       "      <td>Month-to-month</td>\n",
       "      <td>Yes</td>\n",
       "      <td>Electronic check</td>\n",
       "      <td>70.70</td>\n",
       "      <td>151.65</td>\n",
       "      <td>Yes</td>\n",
       "    </tr>\n",
       "  </tbody>\n",
       "</table>\n",
       "<p>5 rows × 21 columns</p>\n",
       "</div>"
      ],
      "text/plain": [
       "   customerID  gender  SeniorCitizen Partner Dependents  tenure PhoneService  \\\n",
       "0  7590-VHVEG  Female              0     Yes         No       1           No   \n",
       "1  5575-GNVDE    Male              0      No         No      34          Yes   \n",
       "2  3668-QPYBK    Male              0      No         No       2          Yes   \n",
       "3  7795-CFOCW    Male              0      No         No      45           No   \n",
       "4  9237-HQITU  Female              0      No         No       2          Yes   \n",
       "\n",
       "      MultipleLines InternetService OnlineSecurity  ... DeviceProtection  \\\n",
       "0  No phone service             DSL             No  ...               No   \n",
       "1                No             DSL            Yes  ...              Yes   \n",
       "2                No             DSL            Yes  ...               No   \n",
       "3  No phone service             DSL            Yes  ...              Yes   \n",
       "4                No     Fiber optic             No  ...               No   \n",
       "\n",
       "  TechSupport StreamingTV StreamingMovies        Contract PaperlessBilling  \\\n",
       "0          No          No              No  Month-to-month              Yes   \n",
       "1          No          No              No        One year               No   \n",
       "2          No          No              No  Month-to-month              Yes   \n",
       "3         Yes          No              No        One year               No   \n",
       "4          No          No              No  Month-to-month              Yes   \n",
       "\n",
       "               PaymentMethod MonthlyCharges  TotalCharges Churn  \n",
       "0           Electronic check          29.85         29.85    No  \n",
       "1               Mailed check          56.95        1889.5    No  \n",
       "2               Mailed check          53.85        108.15   Yes  \n",
       "3  Bank transfer (automatic)          42.30       1840.75    No  \n",
       "4           Electronic check          70.70        151.65   Yes  \n",
       "\n",
       "[5 rows x 21 columns]"
      ]
     },
     "execution_count": 5,
     "metadata": {},
     "output_type": "execute_result"
    }
   ],
   "source": [
    "df.head()"
   ]
  },
  {
   "cell_type": "markdown",
   "metadata": {},
   "source": [
    "### Checking for number of null entries in each column"
   ]
  },
  {
   "cell_type": "code",
   "execution_count": 6,
   "metadata": {},
   "outputs": [
    {
     "data": {
      "text/plain": [
       "customerID          0\n",
       "gender              0\n",
       "SeniorCitizen       0\n",
       "Partner             0\n",
       "Dependents          0\n",
       "tenure              0\n",
       "PhoneService        0\n",
       "MultipleLines       0\n",
       "InternetService     0\n",
       "OnlineSecurity      0\n",
       "OnlineBackup        0\n",
       "DeviceProtection    0\n",
       "TechSupport         0\n",
       "StreamingTV         0\n",
       "StreamingMovies     0\n",
       "Contract            0\n",
       "PaperlessBilling    0\n",
       "PaymentMethod       0\n",
       "MonthlyCharges      0\n",
       "TotalCharges        0\n",
       "Churn               0\n",
       "dtype: int64"
      ]
     },
     "execution_count": 6,
     "metadata": {},
     "output_type": "execute_result"
    }
   ],
   "source": [
    "df.isnull().sum()"
   ]
  },
  {
   "cell_type": "markdown",
   "metadata": {},
   "source": [
    "### Checking to what extent data may be biased"
   ]
  },
  {
   "cell_type": "code",
   "execution_count": 7,
   "metadata": {},
   "outputs": [
    {
     "data": {
      "text/plain": [
       "No     5174\n",
       "Yes    1869\n",
       "Name: Churn, dtype: int64"
      ]
     },
     "execution_count": 7,
     "metadata": {},
     "output_type": "execute_result"
    }
   ],
   "source": [
    "df['Churn'].value_counts()"
   ]
  },
  {
   "cell_type": "markdown",
   "metadata": {},
   "source": [
    "### Seperating other variables from target variable"
   ]
  },
  {
   "cell_type": "code",
   "execution_count": 8,
   "metadata": {},
   "outputs": [
    {
     "data": {
      "text/html": [
       "<div>\n",
       "<style scoped>\n",
       "    .dataframe tbody tr th:only-of-type {\n",
       "        vertical-align: middle;\n",
       "    }\n",
       "\n",
       "    .dataframe tbody tr th {\n",
       "        vertical-align: top;\n",
       "    }\n",
       "\n",
       "    .dataframe thead th {\n",
       "        text-align: right;\n",
       "    }\n",
       "</style>\n",
       "<table border=\"1\" class=\"dataframe\">\n",
       "  <thead>\n",
       "    <tr style=\"text-align: right;\">\n",
       "      <th></th>\n",
       "      <th>customerID</th>\n",
       "      <th>gender</th>\n",
       "      <th>SeniorCitizen</th>\n",
       "      <th>Partner</th>\n",
       "      <th>Dependents</th>\n",
       "      <th>tenure</th>\n",
       "      <th>PhoneService</th>\n",
       "      <th>MultipleLines</th>\n",
       "      <th>InternetService</th>\n",
       "      <th>OnlineSecurity</th>\n",
       "      <th>OnlineBackup</th>\n",
       "      <th>DeviceProtection</th>\n",
       "      <th>TechSupport</th>\n",
       "      <th>StreamingTV</th>\n",
       "      <th>StreamingMovies</th>\n",
       "      <th>Contract</th>\n",
       "      <th>PaperlessBilling</th>\n",
       "      <th>PaymentMethod</th>\n",
       "      <th>MonthlyCharges</th>\n",
       "      <th>TotalCharges</th>\n",
       "    </tr>\n",
       "  </thead>\n",
       "  <tbody>\n",
       "    <tr>\n",
       "      <td>0</td>\n",
       "      <td>7590-VHVEG</td>\n",
       "      <td>Female</td>\n",
       "      <td>0</td>\n",
       "      <td>Yes</td>\n",
       "      <td>No</td>\n",
       "      <td>1</td>\n",
       "      <td>No</td>\n",
       "      <td>No phone service</td>\n",
       "      <td>DSL</td>\n",
       "      <td>No</td>\n",
       "      <td>Yes</td>\n",
       "      <td>No</td>\n",
       "      <td>No</td>\n",
       "      <td>No</td>\n",
       "      <td>No</td>\n",
       "      <td>Month-to-month</td>\n",
       "      <td>Yes</td>\n",
       "      <td>Electronic check</td>\n",
       "      <td>29.85</td>\n",
       "      <td>29.85</td>\n",
       "    </tr>\n",
       "    <tr>\n",
       "      <td>1</td>\n",
       "      <td>5575-GNVDE</td>\n",
       "      <td>Male</td>\n",
       "      <td>0</td>\n",
       "      <td>No</td>\n",
       "      <td>No</td>\n",
       "      <td>34</td>\n",
       "      <td>Yes</td>\n",
       "      <td>No</td>\n",
       "      <td>DSL</td>\n",
       "      <td>Yes</td>\n",
       "      <td>No</td>\n",
       "      <td>Yes</td>\n",
       "      <td>No</td>\n",
       "      <td>No</td>\n",
       "      <td>No</td>\n",
       "      <td>One year</td>\n",
       "      <td>No</td>\n",
       "      <td>Mailed check</td>\n",
       "      <td>56.95</td>\n",
       "      <td>1889.5</td>\n",
       "    </tr>\n",
       "    <tr>\n",
       "      <td>2</td>\n",
       "      <td>3668-QPYBK</td>\n",
       "      <td>Male</td>\n",
       "      <td>0</td>\n",
       "      <td>No</td>\n",
       "      <td>No</td>\n",
       "      <td>2</td>\n",
       "      <td>Yes</td>\n",
       "      <td>No</td>\n",
       "      <td>DSL</td>\n",
       "      <td>Yes</td>\n",
       "      <td>Yes</td>\n",
       "      <td>No</td>\n",
       "      <td>No</td>\n",
       "      <td>No</td>\n",
       "      <td>No</td>\n",
       "      <td>Month-to-month</td>\n",
       "      <td>Yes</td>\n",
       "      <td>Mailed check</td>\n",
       "      <td>53.85</td>\n",
       "      <td>108.15</td>\n",
       "    </tr>\n",
       "    <tr>\n",
       "      <td>3</td>\n",
       "      <td>7795-CFOCW</td>\n",
       "      <td>Male</td>\n",
       "      <td>0</td>\n",
       "      <td>No</td>\n",
       "      <td>No</td>\n",
       "      <td>45</td>\n",
       "      <td>No</td>\n",
       "      <td>No phone service</td>\n",
       "      <td>DSL</td>\n",
       "      <td>Yes</td>\n",
       "      <td>No</td>\n",
       "      <td>Yes</td>\n",
       "      <td>Yes</td>\n",
       "      <td>No</td>\n",
       "      <td>No</td>\n",
       "      <td>One year</td>\n",
       "      <td>No</td>\n",
       "      <td>Bank transfer (automatic)</td>\n",
       "      <td>42.30</td>\n",
       "      <td>1840.75</td>\n",
       "    </tr>\n",
       "    <tr>\n",
       "      <td>4</td>\n",
       "      <td>9237-HQITU</td>\n",
       "      <td>Female</td>\n",
       "      <td>0</td>\n",
       "      <td>No</td>\n",
       "      <td>No</td>\n",
       "      <td>2</td>\n",
       "      <td>Yes</td>\n",
       "      <td>No</td>\n",
       "      <td>Fiber optic</td>\n",
       "      <td>No</td>\n",
       "      <td>No</td>\n",
       "      <td>No</td>\n",
       "      <td>No</td>\n",
       "      <td>No</td>\n",
       "      <td>No</td>\n",
       "      <td>Month-to-month</td>\n",
       "      <td>Yes</td>\n",
       "      <td>Electronic check</td>\n",
       "      <td>70.70</td>\n",
       "      <td>151.65</td>\n",
       "    </tr>\n",
       "  </tbody>\n",
       "</table>\n",
       "</div>"
      ],
      "text/plain": [
       "   customerID  gender  SeniorCitizen Partner Dependents  tenure PhoneService  \\\n",
       "0  7590-VHVEG  Female              0     Yes         No       1           No   \n",
       "1  5575-GNVDE    Male              0      No         No      34          Yes   \n",
       "2  3668-QPYBK    Male              0      No         No       2          Yes   \n",
       "3  7795-CFOCW    Male              0      No         No      45           No   \n",
       "4  9237-HQITU  Female              0      No         No       2          Yes   \n",
       "\n",
       "      MultipleLines InternetService OnlineSecurity OnlineBackup  \\\n",
       "0  No phone service             DSL             No          Yes   \n",
       "1                No             DSL            Yes           No   \n",
       "2                No             DSL            Yes          Yes   \n",
       "3  No phone service             DSL            Yes           No   \n",
       "4                No     Fiber optic             No           No   \n",
       "\n",
       "  DeviceProtection TechSupport StreamingTV StreamingMovies        Contract  \\\n",
       "0               No          No          No              No  Month-to-month   \n",
       "1              Yes          No          No              No        One year   \n",
       "2               No          No          No              No  Month-to-month   \n",
       "3              Yes         Yes          No              No        One year   \n",
       "4               No          No          No              No  Month-to-month   \n",
       "\n",
       "  PaperlessBilling              PaymentMethod  MonthlyCharges TotalCharges  \n",
       "0              Yes           Electronic check           29.85        29.85  \n",
       "1               No               Mailed check           56.95       1889.5  \n",
       "2              Yes               Mailed check           53.85       108.15  \n",
       "3               No  Bank transfer (automatic)           42.30      1840.75  \n",
       "4              Yes           Electronic check           70.70       151.65  "
      ]
     },
     "execution_count": 8,
     "metadata": {},
     "output_type": "execute_result"
    }
   ],
   "source": [
    "x=df.drop('Churn',axis=1)\n",
    "x.head()"
   ]
  },
  {
   "cell_type": "markdown",
   "metadata": {},
   "source": [
    "### Seperating target variables from other variable"
   ]
  },
  {
   "cell_type": "code",
   "execution_count": 9,
   "metadata": {},
   "outputs": [
    {
     "data": {
      "text/plain": [
       "0     No\n",
       "1     No\n",
       "2    Yes\n",
       "3     No\n",
       "4    Yes\n",
       "Name: Churn, dtype: object"
      ]
     },
     "execution_count": 9,
     "metadata": {},
     "output_type": "execute_result"
    }
   ],
   "source": [
    "y=df['Churn']\n",
    "y.head()"
   ]
  },
  {
   "cell_type": "markdown",
   "metadata": {},
   "source": [
    "## Since the given data contains objects type of data, it must be converted to numeric value so as to find outliers easily using boxplot and replace them with suitable values"
   ]
  },
  {
   "cell_type": "markdown",
   "metadata": {},
   "source": [
    "### We use labelencoder from sklearn library for encoding"
   ]
  },
  {
   "cell_type": "code",
   "execution_count": 10,
   "metadata": {},
   "outputs": [],
   "source": [
    "from sklearn.preprocessing import LabelEncoder"
   ]
  },
  {
   "cell_type": "markdown",
   "metadata": {},
   "source": [
    "#### We create a object of labelencoder and use it fit and transform x"
   ]
  },
  {
   "cell_type": "code",
   "execution_count": 11,
   "metadata": {},
   "outputs": [],
   "source": [
    "le=LabelEncoder()\n",
    "x=x.apply(le.fit_transform)"
   ]
  },
  {
   "cell_type": "markdown",
   "metadata": {},
   "source": [
    "#### The table after performing encoding"
   ]
  },
  {
   "cell_type": "code",
   "execution_count": 12,
   "metadata": {},
   "outputs": [
    {
     "data": {
      "text/html": [
       "<div>\n",
       "<style scoped>\n",
       "    .dataframe tbody tr th:only-of-type {\n",
       "        vertical-align: middle;\n",
       "    }\n",
       "\n",
       "    .dataframe tbody tr th {\n",
       "        vertical-align: top;\n",
       "    }\n",
       "\n",
       "    .dataframe thead th {\n",
       "        text-align: right;\n",
       "    }\n",
       "</style>\n",
       "<table border=\"1\" class=\"dataframe\">\n",
       "  <thead>\n",
       "    <tr style=\"text-align: right;\">\n",
       "      <th></th>\n",
       "      <th>customerID</th>\n",
       "      <th>gender</th>\n",
       "      <th>SeniorCitizen</th>\n",
       "      <th>Partner</th>\n",
       "      <th>Dependents</th>\n",
       "      <th>tenure</th>\n",
       "      <th>PhoneService</th>\n",
       "      <th>MultipleLines</th>\n",
       "      <th>InternetService</th>\n",
       "      <th>OnlineSecurity</th>\n",
       "      <th>OnlineBackup</th>\n",
       "      <th>DeviceProtection</th>\n",
       "      <th>TechSupport</th>\n",
       "      <th>StreamingTV</th>\n",
       "      <th>StreamingMovies</th>\n",
       "      <th>Contract</th>\n",
       "      <th>PaperlessBilling</th>\n",
       "      <th>PaymentMethod</th>\n",
       "      <th>MonthlyCharges</th>\n",
       "      <th>TotalCharges</th>\n",
       "    </tr>\n",
       "  </thead>\n",
       "  <tbody>\n",
       "    <tr>\n",
       "      <td>0</td>\n",
       "      <td>5375</td>\n",
       "      <td>0</td>\n",
       "      <td>0</td>\n",
       "      <td>1</td>\n",
       "      <td>0</td>\n",
       "      <td>1</td>\n",
       "      <td>0</td>\n",
       "      <td>1</td>\n",
       "      <td>0</td>\n",
       "      <td>0</td>\n",
       "      <td>2</td>\n",
       "      <td>0</td>\n",
       "      <td>0</td>\n",
       "      <td>0</td>\n",
       "      <td>0</td>\n",
       "      <td>0</td>\n",
       "      <td>1</td>\n",
       "      <td>2</td>\n",
       "      <td>142</td>\n",
       "      <td>2505</td>\n",
       "    </tr>\n",
       "    <tr>\n",
       "      <td>1</td>\n",
       "      <td>3962</td>\n",
       "      <td>1</td>\n",
       "      <td>0</td>\n",
       "      <td>0</td>\n",
       "      <td>0</td>\n",
       "      <td>34</td>\n",
       "      <td>1</td>\n",
       "      <td>0</td>\n",
       "      <td>0</td>\n",
       "      <td>2</td>\n",
       "      <td>0</td>\n",
       "      <td>2</td>\n",
       "      <td>0</td>\n",
       "      <td>0</td>\n",
       "      <td>0</td>\n",
       "      <td>1</td>\n",
       "      <td>0</td>\n",
       "      <td>3</td>\n",
       "      <td>498</td>\n",
       "      <td>1466</td>\n",
       "    </tr>\n",
       "    <tr>\n",
       "      <td>2</td>\n",
       "      <td>2564</td>\n",
       "      <td>1</td>\n",
       "      <td>0</td>\n",
       "      <td>0</td>\n",
       "      <td>0</td>\n",
       "      <td>2</td>\n",
       "      <td>1</td>\n",
       "      <td>0</td>\n",
       "      <td>0</td>\n",
       "      <td>2</td>\n",
       "      <td>2</td>\n",
       "      <td>0</td>\n",
       "      <td>0</td>\n",
       "      <td>0</td>\n",
       "      <td>0</td>\n",
       "      <td>0</td>\n",
       "      <td>1</td>\n",
       "      <td>3</td>\n",
       "      <td>436</td>\n",
       "      <td>157</td>\n",
       "    </tr>\n",
       "    <tr>\n",
       "      <td>3</td>\n",
       "      <td>5535</td>\n",
       "      <td>1</td>\n",
       "      <td>0</td>\n",
       "      <td>0</td>\n",
       "      <td>0</td>\n",
       "      <td>45</td>\n",
       "      <td>0</td>\n",
       "      <td>1</td>\n",
       "      <td>0</td>\n",
       "      <td>2</td>\n",
       "      <td>0</td>\n",
       "      <td>2</td>\n",
       "      <td>2</td>\n",
       "      <td>0</td>\n",
       "      <td>0</td>\n",
       "      <td>1</td>\n",
       "      <td>0</td>\n",
       "      <td>0</td>\n",
       "      <td>266</td>\n",
       "      <td>1400</td>\n",
       "    </tr>\n",
       "    <tr>\n",
       "      <td>4</td>\n",
       "      <td>6511</td>\n",
       "      <td>0</td>\n",
       "      <td>0</td>\n",
       "      <td>0</td>\n",
       "      <td>0</td>\n",
       "      <td>2</td>\n",
       "      <td>1</td>\n",
       "      <td>0</td>\n",
       "      <td>1</td>\n",
       "      <td>0</td>\n",
       "      <td>0</td>\n",
       "      <td>0</td>\n",
       "      <td>0</td>\n",
       "      <td>0</td>\n",
       "      <td>0</td>\n",
       "      <td>0</td>\n",
       "      <td>1</td>\n",
       "      <td>2</td>\n",
       "      <td>729</td>\n",
       "      <td>925</td>\n",
       "    </tr>\n",
       "  </tbody>\n",
       "</table>\n",
       "</div>"
      ],
      "text/plain": [
       "   customerID  gender  SeniorCitizen  Partner  Dependents  tenure  \\\n",
       "0        5375       0              0        1           0       1   \n",
       "1        3962       1              0        0           0      34   \n",
       "2        2564       1              0        0           0       2   \n",
       "3        5535       1              0        0           0      45   \n",
       "4        6511       0              0        0           0       2   \n",
       "\n",
       "   PhoneService  MultipleLines  InternetService  OnlineSecurity  OnlineBackup  \\\n",
       "0             0              1                0               0             2   \n",
       "1             1              0                0               2             0   \n",
       "2             1              0                0               2             2   \n",
       "3             0              1                0               2             0   \n",
       "4             1              0                1               0             0   \n",
       "\n",
       "   DeviceProtection  TechSupport  StreamingTV  StreamingMovies  Contract  \\\n",
       "0                 0            0            0                0         0   \n",
       "1                 2            0            0                0         1   \n",
       "2                 0            0            0                0         0   \n",
       "3                 2            2            0                0         1   \n",
       "4                 0            0            0                0         0   \n",
       "\n",
       "   PaperlessBilling  PaymentMethod  MonthlyCharges  TotalCharges  \n",
       "0                 1              2             142          2505  \n",
       "1                 0              3             498          1466  \n",
       "2                 1              3             436           157  \n",
       "3                 0              0             266          1400  \n",
       "4                 1              2             729           925  "
      ]
     },
     "execution_count": 12,
     "metadata": {},
     "output_type": "execute_result"
    }
   ],
   "source": [
    "x.head()"
   ]
  },
  {
   "cell_type": "markdown",
   "metadata": {},
   "source": [
    "# After encoding we should find outliers using boxplot"
   ]
  },
  {
   "cell_type": "code",
   "execution_count": 13,
   "metadata": {},
   "outputs": [
    {
     "data": {
      "image/png": "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\n",
      "text/plain": [
       "<Figure size 432x288 with 1 Axes>"
      ]
     },
     "metadata": {
      "needs_background": "light"
     },
     "output_type": "display_data"
    },
    {
     "data": {
      "image/png": "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\n",
      "text/plain": [
       "<Figure size 432x288 with 1 Axes>"
      ]
     },
     "metadata": {
      "needs_background": "light"
     },
     "output_type": "display_data"
    },
    {
     "data": {
      "image/png": "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\n",
      "text/plain": [
       "<Figure size 432x288 with 1 Axes>"
      ]
     },
     "metadata": {
      "needs_background": "light"
     },
     "output_type": "display_data"
    },
    {
     "data": {
      "image/png": "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\n",
      "text/plain": [
       "<Figure size 432x288 with 1 Axes>"
      ]
     },
     "metadata": {
      "needs_background": "light"
     },
     "output_type": "display_data"
    },
    {
     "data": {
      "image/png": "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\n",
      "text/plain": [
       "<Figure size 432x288 with 1 Axes>"
      ]
     },
     "metadata": {
      "needs_background": "light"
     },
     "output_type": "display_data"
    },
    {
     "data": {
      "image/png": "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\n",
      "text/plain": [
       "<Figure size 432x288 with 1 Axes>"
      ]
     },
     "metadata": {
      "needs_background": "light"
     },
     "output_type": "display_data"
    },
    {
     "data": {
      "image/png": "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\n",
      "text/plain": [
       "<Figure size 432x288 with 1 Axes>"
      ]
     },
     "metadata": {
      "needs_background": "light"
     },
     "output_type": "display_data"
    },
    {
     "data": {
      "image/png": "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\n",
      "text/plain": [
       "<Figure size 432x288 with 1 Axes>"
      ]
     },
     "metadata": {
      "needs_background": "light"
     },
     "output_type": "display_data"
    },
    {
     "data": {
      "image/png": "iVBORw0KGgoAAAANSUhEUgAAAXoAAAD4CAYAAADiry33AAAABHNCSVQICAgIfAhkiAAAAAlwSFlzAAALEgAACxIB0t1+/AAAADh0RVh0U29mdHdhcmUAbWF0cGxvdGxpYiB2ZXJzaW9uMy4xLjEsIGh0dHA6Ly9tYXRwbG90bGliLm9yZy8QZhcZAAATAklEQVR4nO3df5BdZ33f8ffHsuwEcEFGm5TKkuU0SscmBkN2DIyTYhoQMiSITmkqEYLIQNQydghpp8FOGbsj2hlTJkknjcGoicZOJtg0NrQCBLIScBwCBq0cYWM7BlUxsSqmXhBx7EDtSnz7xz3qXK/uas9KdyX50fs1c2bPeX6c+7229NmzZ8/Vk6pCktSuM052AZKkhWXQS1LjDHpJapxBL0mNM+glqXFnnuwCRlm6dGmtXLnyZJchSc8Yu3bt+lZVTYzqOyWDfuXKlUxNTZ3sMiTpGSPJN2br89aNJDXOoJekxhn0ktQ4g16SGmfQS1Lj5gz6JMuTfC7Jg0nuT/IrI8YkyW8n2ZPk3iQvHerbkOTr3bZh3G9AknR0fR6vPAj8m6q6J8k5wK4kO6rqgaExVwCruu1lwIeAlyU5F7gOmASqm7u1qr4z1nchSZrVnFf0VfXNqrqn238ceBBYNmPYWuD3a+Bu4HlJXgC8FthRVQe6cN8BrBnrO5AkHdW8PjCVZCXwEuBLM7qWAY8MHe/r2mZrH3XujcBGgBUrVsynLOmYJDlhr+W6DzqZev8yNslzgNuBd1fV387sHjGljtJ+ZGPV5qqarKrJiYmRn+KVxqqq5r2d/55PHtM86WTqFfRJFjMI+T+sqo+NGLIPWD50fB6w/yjtkqQTpM9TNwF+D3iwqn5zlmFbgbd2T9+8HHisqr4JbAdWJ1mSZAmwumuTJJ0gfe7RXwb8AnBfkt1d268DKwCq6kZgG/A6YA/wXeAXu74DSd4H7OzmbaqqA+MrX5I0lzmDvqo+z+h77cNjCrhylr4twJZjqk6SdNz8ZKwkNc6gl6TGGfSS1DiDXpIaZ9BLUuMMeklqnEEvSY0z6CWpcQa9JDXOoJekxhn0ktQ4g16SGmfQS1LjDHpJapxBL0mNM+glqXFzLjySZAvwM8CjVfXjI/r/LfDzQ+e7EJjoVpd6GHgcOAQcrKrJcRUuSeqnzxX9TcCa2Tqr6gNVdUlVXQJcA/zpjOUCX9X1G/KSdBLMGfRVdRfQd53X9cAtx1WRJGmsxnaPPsmzGFz53z7UXMAdSXYl2TjH/I1JppJMTU9Pj6ssSTrtjfOXsT8L/PmM2zaXVdVLgSuAK5P849kmV9XmqpqsqsmJiYkxliVJp7dxBv06Zty2qar93ddHgY8Dl47x9SRJPYwl6JM8F3gl8D+G2p6d5JzD+8Bq4KvjeD1JUn99Hq+8BbgcWJpkH3AdsBigqm7shv1T4I6q+ruhqT8MfDzJ4df5SFV9ZnylS5L6mDPoq2p9jzE3MXgMc7htL/DiYy1MkjQefjJWkhpn0EtS4wx6SWqcQS9JjTPoJalxBr0kNc6gl6TGGfSS1DiDXpIaZ9BLUuMMeklqnEEvSY0z6CWpcQa9JDXOoJekxhn0ktS4OYM+yZYkjyYZuQxgksuTPJZkd7ddO9S3JslDSfYkuXqchUuS+ulzRX8TsGaOMX9WVZd02yaAJIuAG4ArgIuA9UkuOp5iJUnzN2fQV9VdwIFjOPelwJ6q2ltVTwG3AmuP4TySpOMwrnv0r0jylSSfTvLCrm0Z8MjQmH1d20hJNiaZSjI1PT09prIkSeMI+nuA86vqxcB/Af57154RY2u2k1TV5qqarKrJiYmJMZQlSYIxBH1V/W1VPdHtbwMWJ1nK4Ap++dDQ84D9x/t6kqT5Oe6gT/L3k6Tbv7Q757eBncCqJBckOQtYB2w93teTJM3PmXMNSHILcDmwNMk+4DpgMUBV3Qi8CXhnkoPA94B1VVXAwSRXAduBRcCWqrp/Qd6FJGlWcwZ9Va2fo/93gN+ZpW8bsO3YSpMkjYOfjJWkxhn0ktQ4g16SGmfQS1LjDHpJapxBL0mNM+glqXEGvSQ1zqCXpMYZ9JLUOINekhpn0EtS4wx6SWqcQS9JjTPoJalxcwZ9ki1JHk3y1Vn6fz7Jvd32hSQvHup7OMl9SXYnmRpn4ZKkfvpc0d8ErDlK/18Br6yqFwHvAzbP6H9VVV1SVZPHVqIk6Xj0WWHqriQrj9L/haHDuxksAi5JOkWM+x7924FPDx0XcEeSXUk2Hm1iko1JppJMTU9Pj7ksSTp9zXlF31eSVzEI+p8car6sqvYn+SFgR5K/rKq7Rs2vqs10t30mJydrXHVJ0uluLFf0SV4E/C6wtqq+fbi9qvZ3Xx8FPg5cOo7XkyT1d9xBn2QF8DHgF6rqa0Ptz05yzuF9YDUw8skdSdLCmfPWTZJbgMuBpUn2AdcBiwGq6kbgWuD5wAeTABzsnrD5YeDjXduZwEeq6jML8B4kSUfR56mb9XP0vwN4x4j2vcCLj5whSTqR/GSsJDXOoJekxhn0ktQ4g16SGmfQS1LjDHpJapxBL0mNM+glqXEGvSQ1zqCXpMYZ9JLUOINekhpn0EtS4wx6SWqcQS9JjTPoJalxvYI+yZYkjyYZuRRgBn47yZ4k9yZ56VDfhiRf77YN4ypcktRP3yv6m4A1R+m/AljVbRuBDwEkOZfB0oMvY7Aw+HVJlhxrsZKk+esV9FV1F3DgKEPWAr9fA3cDz0vyAuC1wI6qOlBV3wF2cPRvGJKkMZtzzdielgGPDB3v69pmaz9Cko0MfhpgxYoVYypLp5OLb754wV/jnAvh4puvXvDXuW/DfQv+Gjp9jCvoM6KtjtJ+ZGPVZmAzwOTk5Mgx0tE8/uD1PHz96092Gcdt5dWfOtklqDHjeupmH7B86Pg8YP9R2iVJJ8i4gn4r8Nbu6ZuXA49V1TeB7cDqJEu6X8Ku7tokSSdIr1s3SW4BLgeWJtnH4EmaxQBVdSOwDXgdsAf4LvCLXd+BJO8Ddnan2lRVR/ulriRpzHoFfVWtn6O/gCtn6dsCbJl/aZKkcfCTsZLUOINekhpn0EtS4wx6SWqcQS9JjTPoJalxBr0kNc6gl6TGGfSS1DiDXpIaZ9BLUuMMeklqnEEvSY0z6CWpcQa9JDXOoJekxvUK+iRrkjyUZE+Sq0f0/1aS3d32tSR/M9R3aKhv6ziLlyTNbc4VppIsAm4AXsNgse+dSbZW1QOHx1TVrw6N/2XgJUOn+F5VXTK+kiVJ89Hniv5SYE9V7a2qp4BbgbVHGb8euGUcxUmSjl+foF8GPDJ0vK9rO0KS84ELgM8ONf9Akqkkdyd542wvkmRjN25qenq6R1mSpD76BH1GtNUsY9cBt1XVoaG2FVU1CbwZ+M9J/uGoiVW1uaomq2pyYmKiR1mSpD76BP0+YPnQ8XnA/lnGrmPGbZuq2t993QvcydPv30uSFlifoN8JrEpyQZKzGIT5EU/PJPlHwBLgi0NtS5Kc3e0vBS4DHpg5V5K0cOZ86qaqDia5CtgOLAK2VNX9STYBU1V1OPTXA7dW1fBtnQuBDyf5PoNvKtcPP60jSVp4cwY9QFVtA7bNaLt2xvG/HzHvC8DFx1GfJOk4+clYSWqcQS9JjTPoJalxBr0kNc6gl6TGGfSS1DiDXpIaZ9BLUuMMeklqnEEvSY0z6CWpcQa9JDXOoJekxhn0ktQ4g16SGtcr6JOsSfJQkj1Jrh7R/7Yk00l2d9s7hvo2JPl6t20YZ/GSpLnNufBIkkXADcBrGKwfuzPJ1hErRX20qq6aMfdc4DpgksGC4ru6ud8ZS/WSpDn1uaK/FNhTVXur6ingVmBtz/O/FthRVQe6cN8BrDm2UiVJx6JP0C8DHhk63te1zfTPktyb5LYky+c5lyQbk0wlmZqenu5RliSpjz5BnxFtNeP4E8DKqnoR8MfAzfOYO2is2lxVk1U1OTEx0aMsSVIffYJ+H7B86Pg8YP/wgKr6dlU92R3+V+An+s6VJC2sPkG/E1iV5IIkZwHrgK3DA5K8YOjwDcCD3f52YHWSJUmWAKu7NknSCTLnUzdVdTDJVQwCehGwparuT7IJmKqqrcC7krwBOAgcAN7WzT2Q5H0MvlkAbKqqAwvwPiRJs5gz6AGqahuwbUbbtUP71wDXzDJ3C7DlOGqUJB0HPxkrSY0z6CWpcQa9JDXOoJekxhn0ktQ4g16SGmfQS1LjDHpJapxBL0mNM+glqXEGvSQ1zqCXpMYZ9JLUOINekhpn0EtS4wx6SWpcr6BPsibJQ0n2JLl6RP+/TvJAknuT/EmS84f6DiXZ3W1bZ86VJC2sOVeYSrIIuAF4DYPFvncm2VpVDwwN+wtgsqq+m+SdwH8C/kXX972qumTMdUuSeupzRX8psKeq9lbVU8CtwNrhAVX1uar6bnd4N3DeeMuUJB2rPkG/DHhk6Hhf1zabtwOfHjr+gSRTSe5O8sbZJiXZ2I2bmp6e7lGWJKmPPouDZ0RbjRyYvAWYBF451LyiqvYn+RHgs0nuq6r/ecQJqzYDmwEmJydHnl+SNH99ruj3AcuHjs8D9s8clOTVwL8D3lBVTx5ur6r93de9wJ3AS46jXknSPPUJ+p3AqiQXJDkLWAc87emZJC8BPswg5B8dal+S5OxufylwGTD8S1xJ0gKb89ZNVR1MchWwHVgEbKmq+5NsAqaqaivwAeA5wB8lAfjrqnoDcCHw4STfZ/BN5foZT+tIkhZYn3v0VNU2YNuMtmuH9l89y7wvABcfT4GSpOPjJ2MlqXEGvSQ1zqCXpMYZ9JLUOINekhpn0EtS4wx6SWqcQS9JjTPoJalxBr0kNc6gl6TGGfSS1DiDXpIaZ9BLUuMMeklqnEEvSY3rFfRJ1iR5KMmeJFeP6D87yUe7/i8lWTnUd03X/lCS146vdElSH3MGfZJFwA3AFcBFwPokF80Y9nbgO1X1o8BvAe/v5l7EYI3ZFwJrgA9255MknSB9rugvBfZU1d6qegq4FVg7Y8xa4OZu/zbgpzNYPHYtcGtVPVlVfwXs6c4nSTpB+qwZuwx4ZOh4H/Cy2cZ0i4k/Bjy/a797xtxlo14kyUZgI8CKFSv61C4dYeXVn+o99hvv/5kFrOTpzn/PJ3uPfe4PLl7ASnQ66hP0GdFWPcf0mTtorNoMbAaYnJwcOUY6moevf/38JlzvHzOdHvrcutkHLB86Pg/YP9uYJGcCzwUO9JwrSVpAfYJ+J7AqyQVJzmLwy9WtM8ZsBTZ0+28CPltV1bWv657KuQBYBXx5PKVLkvqY89ZNd8/9KmA7sAjYUlX3J9kETFXVVuD3gD9IsofBlfy6bu79Sf4b8ABwELiyqg4t0HuRJI2QwYX3qWVycrKmpqZOdhmS9IyRZFdVTY7q85OxktQ4g16SGmfQS1LjDHpJatwp+cvYJNPAN052HdIIS4FvnewipBHOr6qJUR2nZNBLp6okU7M92SCdqrx1I0mNM+glqXEGvTQ/m092AdJ8eY9ekhrnFb0kNc6gl6TGGfQ6ZSV5oseYdyd51gmoZWWSNw8dPyvJHya5L8lXk3w+yXPG9FrbkjxvHOeSwKDXM9+7gXkF/TEuUL8SePPQ8a8A/7uqLq6qHwfeDvzfcdRQVa+rqr85hhqlkQx6nfKSXJ7kziS3JfnL7ko6Sd4F/APgc0k+141dneSLSe5J8keHr7KTPJzk2iSfB/55d773J/lykq8l+alu3KIkH0iyM8m9Sf5lV8b1wE8l2Z3kV4EXAP/rcI1V9VBVPdmd4y3deXcn+fDhUE/yRJJNSb4E/Hq3VsPwe/zEUK1Lu/23dnV8JckfdG0TSW7vatyZ5LKF+6+vJlSVm9spuQFPdF8vBx5jsBTlGcAXgZ/s+h4Glnb7S4G7gGd3x+8Brh0a92tD574T+I1u/3XAH3f7G4H3dvtnA1PABV0NnxyafwnwaFfLfwBWde0XAp8AFnfHHwTe2u0X8HPd/pnAXw/V+iHgLcPvCXgh8NDQ+zu3+/qRofe/AnjwZP+/cju1tz6Lg0ungi9X1T6AJLsZ3Er5/IwxLwcuAv48CcBZDIL4sI/OGP+x7uuu7nwAq4EXJXlTd/xcBktgPjU8sap2J/mRbvyrgZ1JXgH8NPAT3THADzL4hgBwCLi9m38wyWeAn01yG/B64Ndm1PdPgNuq6lvdnANd+6uBi7rzA/y9JOdU1eNIIxj0eqZ4cmj/EKP/7AbYUVXrZznH381yzuHzBfjlqtr+tBMnl888WVU9weCbxceSfJ/BTwZPATdX1TUjXv//1NOX0vwocCWD5Td3jgjqMPgpYKYzgFdU1fdG9ElH8B69nukeB87p9u8GLkvyo/D/n4z5sXmebzvwziSLu3P8WJJnz3gdklyWZEm3fxaDnyS+AfwJ8KYkP9T1nZvk/Fle607gpcAvceRPG3Tn+rkkzz98rq79DuCqoVoumed71GnGK3o9020GPp3km1X1qiRvA25JcnbX/17ga/M43+8yuI1zTwb3RqaBNwL3AgeTfAW4Cfg28KFuzBnAp4Dbq6qSvBe4I8kZDJ7EuZIR/+x2VR1K8kngbcCGEf33J/mPwJ8mOQT8RTf2XcANSe5l8Hf4LuBfzeM96jTjP4EgSY3z1o0kNc6gl6TGGfSS1DiDXpIaZ9BLUuMMeklqnEEvSY37f2XWWzhSmW9QAAAAAElFTkSuQmCC\n",
      "text/plain": [
       "<Figure size 432x288 with 1 Axes>"
      ]
     },
     "metadata": {
      "needs_background": "light"
     },
     "output_type": "display_data"
    },
    {
     "data": {
      "image/png": "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\n",
      "text/plain": [
       "<Figure size 432x288 with 1 Axes>"
      ]
     },
     "metadata": {
      "needs_background": "light"
     },
     "output_type": "display_data"
    },
    {
     "data": {
      "image/png": "iVBORw0KGgoAAAANSUhEUgAAAXoAAAD4CAYAAADiry33AAAABHNCSVQICAgIfAhkiAAAAAlwSFlzAAALEgAACxIB0t1+/AAAADh0RVh0U29mdHdhcmUAbWF0cGxvdGxpYiB2ZXJzaW9uMy4xLjEsIGh0dHA6Ly9tYXRwbG90bGliLm9yZy8QZhcZAAAS6UlEQVR4nO3dfbBcd33f8fenssxDcIkdqQmjB8skTsY24Adu7ICZYpog5PAgMiGD1RScFEYzBDdN2mYi0o5NzbRjwrRpEwxGaRSThNhpwSYKCIwCIW7imujKMTK2MRbC4Dvy1BcEBmKDI/PtH3uUrq/23j3SXVnST+/XzM7d83s4+12N5nOPfntWv1QVkqR2/aOjXYAk6cgy6CWpcQa9JDXOoJekxhn0ktS4k452AaMsW7as1qxZc7TLkKTjxs6dO79aVctH9R2TQb9mzRqmp6ePdhmSdNxI8uX5+ly6kaTGGfSS1DiDXpIaZ9BLUuMMeklq3NigT7IqyV8kuTfJ3Un+9YgxSfLbSXYn2ZXkgqG+y5Pc3z0un/QbkCQtrM/tlfuBf1tVdyQ5BdiZZHtV3TM05lLgzO5xEfBe4KIkpwFXAVNAdXO3VtXXJ/ouJEnzGntFX1UPVdUd3fNvAfcCK+YMWw/8QQ3cDnx/kucArwC2V9W+Lty3A+sm+g4kSQs6pC9MJVkDnA98Zk7XCuDBoeOZrm2+9lHn3ghsBFi9evWhlCUBcO5//ASPPPb3vcd/+Z2vOoLVPNnpv/6R3mOf/YylfPaqtUewGp1oegd9kmcBHwJ+paq+Obd7xJRaoP3gxqrNwGaAqakpd0PRIXvksb/ngWte2X/CNcfmX7M1mz56tEtQY3rddZNkKYOQ/0BV3TRiyAywauh4JbB3gXZJ0lOkz103AX4PuLeq/us8w7YCb+zuvvkJ4JGqegi4BVib5NQkpwJruzZJ0lOkz9LNxcAbgLuS3Nm1/QawGqCqrgO2AT8N7AYeBX6x69uX5B3Ajm7e1VW1b3LlS5LGGRv0VfVXjF5rHx5TwFvn6dsCbDms6iRJi+Y3YyWpcQa9JDXOoJekxhn0ktQ4g16SGmfQS1LjDHpJapxBL0mNM+glqXEGvSQ1zqCXpMYZ9JLUOINekhpn0EtS4wx6SWqcQS9JjRu78UiSLcCrgIer6nkj+n8N+Pmh850FLO92l3oA+BbwBLC/qqYmVbgkqZ8+V/TXA+vm66yqd1XVeVV1HvA24C/nbBf4sq7fkJeko2Bs0FfVrUDffV43ADcsqiJJ0kRNbI0+yTMZXPl/aKi5gE8k2Zlk45j5G5NMJ5menZ2dVFmSdMKb5Iexrwb+es6yzcVVdQFwKfDWJP90vslVtbmqpqpqavny5RMsS5JObJMM+suYs2xTVXu7nw8DNwMXTvD1JEk9TCTokzwbeCnwp0Nt35fklAPPgbXA5ybxepKk/vrcXnkDcAmwLMkMcBWwFKCqruuG/Qzwiar6u6GpPwjcnOTA6/xxVX18cqVLkvoYG/RVtaHHmOsZ3IY53LYHOPdwC5MkTYbfjJWkxhn0ktQ4g16SGmfQS1LjDHpJapxBL0mNM+glqXEGvSQ1zqCXpMYZ9JLUOINekhpn0EtS4wx6SWqcQS9JjTPoJalxBr0kNW5s0CfZkuThJCO3AUxySZJHktzZPa4c6luX5L4ku5NsmmThkqR++lzRXw+sGzPmf1fVed3jaoAkS4BrgUuBs4ENSc5eTLGSpEM3Nuir6lZg32Gc+0Jgd1XtqarHgRuB9YdxHknSIkxqjf5FST6b5GNJzunaVgAPDo2Z6dpGSrIxyXSS6dnZ2QmVJUmaRNDfAZxeVecCvwN8uGvPiLE130mqanNVTVXV1PLlyydQliQJJhD0VfXNqvp293wbsDTJMgZX8KuGhq4E9i729SRJh2bRQZ/kh5Kke35hd86vATuAM5OckeRk4DJg62JfT5J0aE4aNyDJDcAlwLIkM8BVwFKAqroOeB3wliT7gceAy6qqgP1JrgBuAZYAW6rq7iPyLiRJ8xob9FW1YUz/u4F3z9O3Ddh2eKVJkibBb8ZKUuMMeklqnEEvSY0z6CWpcQa9JDXOoJekxhn0ktQ4g16SGmfQS1LjDHpJapxBL0mNM+glqXEGvSQ1zqCXpMYZ9JLUuLFBn2RLkoeTfG6e/p9Psqt73Jbk3KG+B5LcleTOJNOTLFyS1E+fK/rrgXUL9H8JeGlVvQB4B7B5Tv/Lquq8qpo6vBIlSYvRZ4epW5OsWaD/tqHD2xlsAi5JOkZMeo3+TcDHho4L+ESSnUk2LjQxycYk00mmZ2dnJ1yWJJ24xl7R95XkZQyC/iVDzRdX1d4k/wTYnuTzVXXrqPlVtZlu2WdqaqomVZcknegmckWf5AXA/wDWV9XXDrRX1d7u58PAzcCFk3g9SVJ/iw76JKuBm4A3VNUXhtq/L8kpB54Da4GRd+5Iko6csUs3SW4ALgGWJZkBrgKWAlTVdcCVwA8A70kCsL+7w+YHgZu7tpOAP66qjx+B9yBJWkCfu242jOl/M/DmEe17gHMPniFJeir5zVhJapxBL0mNM+glqXEGvSQ1zqCXpMYZ9JLUOINekhpn0EtS4wx6SWqcQS9JjTPoJalxBr0kNc6gl6TGGfSS1DiDXpIaZ9BLUuN6BX2SLUkeTjJyK8AM/HaS3Ul2JblgqO/yJPd3j8snVbgkqZ++V/TXA+sW6L8UOLN7bATeC5DkNAZbD17EYGPwq5KcerjFSpIOXa+gr6pbgX0LDFkP/EEN3A58f5LnAK8AtlfVvqr6OrCdhX9hSJImbOyesT2tAB4cOp7p2uZrP0iSjQz+NcDq1asnVJZOJKectYnnv3/T0S5j0U45C+CVR7sMNWRSQZ8RbbVA+8GNVZuBzQBTU1Mjx0gL+da91/DANcd/QK7Z9NGjXYIaM6m7bmaAVUPHK4G9C7RLkp4ikwr6rcAbu7tvfgJ4pKoeAm4B1iY5tfsQdm3XJkl6ivRauklyA3AJsCzJDIM7aZYCVNV1wDbgp4HdwKPAL3Z9+5K8A9jRnerqqlroQ11J0oT1Cvqq2jCmv4C3ztO3Bdhy6KVJkibBb8ZKUuMMeklqnEEvSY0z6CWpcQa9JDXOoJekxhn0ktQ4g16SGmfQS1LjDHpJapxBL0mNM+glqXEGvSQ1zqCXpMYZ9JLUOINekhrXK+iTrEtyX5LdSTaN6P+tJHd2jy8k+cZQ3xNDfVsnWbwkabyxO0wlWQJcC7ycwWbfO5Jsrap7Doypql8dGv+vgPOHTvFYVZ03uZIlSYeizxX9hcDuqtpTVY8DNwLrFxi/AbhhEsVJkhavT9CvAB4cOp7p2g6S5HTgDOBTQ81PTzKd5PYkr53vRZJs7MZNz87O9ihLktRHn6DPiLaaZ+xlwAer6omhttVVNQX8c+C/JfnhUROranNVTVXV1PLly3uUJUnqo0/QzwCrho5XAnvnGXsZc5Ztqmpv93MP8GmevH4vSTrC+gT9DuDMJGckOZlBmB9090ySHwNOBf7PUNupSZ7WPV8GXAzcM3euJOnIGXvXTVXtT3IFcAuwBNhSVXcnuRqYrqoDob8BuLGqhpd1zgLel+R7DH6pXDN8t44k6cgbG/QAVbUN2Dan7co5x28fMe824PmLqE+StEh+M1aSGmfQS1LjDHpJapxBL0mNM+glqXEGvSQ1zqCXpMYZ9JLUOINekhpn0EtS4wx6SWqcQS9JjTPoJalxBr0kNc6gl6TG9Qr6JOuS3Jdkd5JNI/p/Iclskju7x5uH+i5Pcn/3uHySxUuSxhu78UiSJcC1wMsZ7B+7I8nWETtF/UlVXTFn7mnAVcAUgw3Fd3Zzvz6R6iVJY/W5or8Q2F1Ve6rqceBGYH3P878C2F5V+7pw3w6sO7xSJUmHo0/QrwAeHDqe6drm+tkku5J8MMmqQ5xLko1JppNMz87O9ihLktRHn6DPiLaac/xnwJqqegHw58D7D2HuoLFqc1VNVdXU8uXLe5QlSeqjT9DPAKuGjlcCe4cHVNXXquq73eHvAi/sO1eSdGT1CfodwJlJzkhyMnAZsHV4QJLnDB2+Bri3e34LsDbJqUlOBdZ2bZKkp8jYu26qan+SKxgE9BJgS1XdneRqYLqqtgK/nOQ1wH5gH/AL3dx9Sd7B4JcFwNVVte8IvA9J0jzGBj1AVW0Dts1pu3Lo+duAt80zdwuwZRE1SpIWwW/GSlLjDHpJapxBL0mNM+glqXEGvSQ1zqCXpMYZ9JLUOINekhpn0EtS4wx6SWqcQS9JjTPoJalxBr0kNc6gl6TGGfSS1DiDXpIa1yvok6xLcl+S3Uk2jej/N0nuSbIrySeTnD7U90SSO7vH1rlzJUlH1tgdppIsAa4FXs5gs+8dSbZW1T1Dw/4WmKqqR5O8BfhN4PVd32NVdd6E65Yk9dTniv5CYHdV7amqx4EbgfXDA6rqL6rq0e7wdmDlZMuUJB2uPkG/Anhw6Hima5vPm4CPDR0/Pcl0ktuTvHa+SUk2duOmZ2dne5QlSeqjz+bgGdFWIwcm/wKYAl461Ly6qvYmeS7wqSR3VdUXDzph1WZgM8DU1NTI80uSDl2fK/oZYNXQ8Upg79xBSX4K+PfAa6rquwfaq2pv93MP8Gng/EXUK0k6RH2CfgdwZpIzkpwMXAY86e6ZJOcD72MQ8g8PtZ+a5Gnd82XAxcDwh7iSpCNs7NJNVe1PcgVwC7AE2FJVdye5Gpiuqq3Au4BnAf8rCcBXquo1wFnA+5J8j8EvlWvm3K0jSTrC+qzRU1XbgG1z2q4cev5T88y7DXj+YgqUJC2O34yVpMYZ9JLUOINekhpn0EtS4wx6SWqcQS9JjTPoJalxBr0kNc6gl6TGGfSS1DiDXpIaZ9BLUuMMeklqnEEvSY0z6CWpcQa9JDWuV9AnWZfkviS7k2wa0f+0JH/S9X8myZqhvrd17fclecXkSpck9TE26JMsAa4FLgXOBjYkOXvOsDcBX6+qHwF+C3hnN/dsBnvMngOsA97TnU+S9BTpc0V/IbC7qvZU1ePAjcD6OWPWA+/vnn8Q+MkMNo9dD9xYVd+tqi8Bu7vzSZKeIn32jF0BPDh0PANcNN+YbjPxR4Af6NpvnzN3xagXSbIR2AiwevXqPrVLB1mz6aO9x375na86gpU82em//pHeY5/9jKVHsBKdiPoEfUa0Vc8xfeYOGqs2A5sBpqamRo6RFvLANa88tAnX+NdMJ4Y+SzczwKqh45XA3vnGJDkJeDawr+dcSdIR1CfodwBnJjkjyckMPlzdOmfMVuDy7vnrgE9VVXXtl3V35ZwBnAn8zWRKlyT1MXbppltzvwK4BVgCbKmqu5NcDUxX1Vbg94A/TLKbwZX8Zd3cu5P8T+AeYD/w1qp64gi9F0nSCBlceB9bpqamanp6+miXIUnHjSQ7q2pqVJ/fjJWkxhn0ktQ4g16SGmfQS1LjjskPY5PMAl8+2nVIIywDvnq0i5BGOL2qlo/qOCaDXjpWJZme784G6Vjl0o0kNc6gl6TGGfTSodl8tAuQDpVr9JLUOK/oJalxBr0kNc6g13Ejycokf5rk/iRfTPLfu/86e6E5DyRZ1j2/bRGvfX2SLyW5M8nnk1x1mOe5JEn/7aakCTDodVzo9iC+CfhwVZ0J/CjwLOA/9T1HVb14kWX8WlWdB5wHXN7tsSAd8wx6HS/+GfCdqvp9gG5fg18F/mWSX0pyU5KPd1f7vznqBEm+3f28JMmnk3ywuzr/QPeLhCQvTPKXSXYmuSXJc0ac6undz7/r5lyZZEeSzyXZPHSuH0ny50k+m+SOJD88p54fT/K3SZ6b5O1J/t1Q3+eSrOken0/y/iS7upqfuag/SZ1wDHodL84Bdg43VNU3ga8w2EDnPOD1wPOB1ydZddAZnux84FeAs4HnAhcnWQr8DvC6qnohsIUn/4vhXUnuZLBF5o1V9XDX/u6q+vGqeh7wDODAruMfAK6tqnOBFwMPHThRkhcD1wHrq2rPmFp/DNhcVS8Avgn80pjx0pMY9DpehNEbyx9o/2RVPVJV32Gwo9npY873N1U1U1XfA+4E1jAI1OcB27tA/w8M9jk+4MDSzQ8BP9mFNcDLknwmyV0M/uVxTpJTgBVVdTNAVX2nqh7txp/F4H78V1fVV3q89wer6q+7538EvKTHHOkfjN1KUDpG3A387HBDkn/MYPP5J4DvDnU9wfi/26PGB7i7ql600MSq+naSTwMvSXIH8B5gqqoeTPJ2Bks7WeAUD3Vjzgf2dm37efKF19OHns/9BeeXX3RIvKLX8eKTwDOTvBEgyRLgvwDXA48uMO9Q3AcsT/Ki7jWWJjln7qAkJwEXAV/k/wfyV5M8C3gd/MOy0kyS13Zznja0tv4N4JXAf05ySdf2AHBBN/YCYPiD3tUHagI2AH+1+LeqE4lBr+NCDb7C/TPAzyW5H/gC8B3gNyb4Go8zCOp3JvksgyWd4Tt1DqzR7wLuAm6qqm8Av9sdfxjYMTT+DcAvJ9kF3MZgyefAa/1f4NXAtUkuAj4EnNad/y3d+zvgXgZ3+ewCTgPeO6n3rBOD/wWCdAxLsgb4SPdBr3RYvKKXpMZ5RS9JjfOKXpIaZ9BLUuMMeklqnEEvSY0z6CWpcf8PQxNac2gaFqYAAAAASUVORK5CYII=\n",
      "text/plain": [
       "<Figure size 432x288 with 1 Axes>"
      ]
     },
     "metadata": {
      "needs_background": "light"
     },
     "output_type": "display_data"
    },
    {
     "data": {
      "image/png": "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\n",
      "text/plain": [
       "<Figure size 432x288 with 1 Axes>"
      ]
     },
     "metadata": {
      "needs_background": "light"
     },
     "output_type": "display_data"
    },
    {
     "data": {
      "image/png": "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\n",
      "text/plain": [
       "<Figure size 432x288 with 1 Axes>"
      ]
     },
     "metadata": {
      "needs_background": "light"
     },
     "output_type": "display_data"
    },
    {
     "data": {
      "image/png": "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\n",
      "text/plain": [
       "<Figure size 432x288 with 1 Axes>"
      ]
     },
     "metadata": {
      "needs_background": "light"
     },
     "output_type": "display_data"
    },
    {
     "data": {
      "image/png": "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
